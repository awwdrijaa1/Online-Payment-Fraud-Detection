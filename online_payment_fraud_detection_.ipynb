{
  "metadata": {
    "kernelspec": {
      "language": "python",
      "display_name": "Python 3",
      "name": "python3"
    },
    "language_info": {
      "name": "python",
      "version": "3.7.12",
      "mimetype": "text/x-python",
      "codemirror_mode": {
        "name": "ipython",
        "version": 3
      },
      "pygments_lexer": "ipython3",
      "nbconvert_exporter": "python",
      "file_extension": ".py"
    },
    "kaggle": {
      "accelerator": "none",
      "dataSources": [
        {
          "sourceId": 4398600,
          "sourceType": "datasetVersion",
          "datasetId": 2580326
        }
      ],
      "dockerImageVersionId": 30301,
      "isInternetEnabled": false,
      "language": "python",
      "sourceType": "notebook",
      "isGpuEnabled": false
    },
    "colab": {
      "provenance": [],
      "include_colab_link": true
    }
  },
  "nbformat_minor": 0,
  "nbformat": 4,
  "cells": [
    {
      "cell_type": "markdown",
      "metadata": {
        "id": "view-in-github",
        "colab_type": "text"
      },
      "source": [
        "<a href=\"https://colab.research.google.com/github/awwdrijaa1/Online-Payment-Fraud-Detection/blob/main/online_payment_fraud_detection_.ipynb\" target=\"_parent\"><img src=\"https://colab.research.google.com/assets/colab-badge.svg\" alt=\"Open In Colab\"/></a>"
      ]
    },
    {
      "cell_type": "markdown",
      "source": [
        "# <div style='background:darkblue'>  <font color='white'>  <b>&nbsp;Introduction</b> </font> </div>\n"
      ],
      "metadata": {
        "id": "NLa5d7m92guY"
      }
    },
    {
      "cell_type": "markdown",
      "source": [
        "Online payment is the most popular transaction method in the world today. However, with an increase in online payments also comes a rise in payment fraud. The objective of this study is **to identify fraudulent and non-fraudulent payments**. The dataset is collected from Kaggle, which contains historical information about fraudulent transactions which can be used to detect fraud in online payments.\n",
        "\n",
        "\n",
        "The dataset consists of 10 variables:\n",
        "* **step**: represents a unit of time where 1 step equals 1 hour\n",
        "* **type**: type of online transaction\n",
        "* **amount**: the amount of the transaction\n",
        "* **nameOrig**: customer starting the transaction\n",
        "* **oldbalanceOrg**: balance before the transaction\n",
        "* **newbalanceOrig**: balance after the transaction\n",
        "* **nameDest**: recipient of the transaction\n",
        "* **oldbalanceDest**: initial balance of recipient before the transaction\n",
        "* **newbalanceDest**: the new balance of recipient after the transaction\n",
        "* **isFraud**: fraud transaction"
      ],
      "metadata": {
        "id": "7pBxFbIM2gua"
      }
    },
    {
      "cell_type": "code",
      "source": [
        "import numpy as np\n",
        "import pandas as pd\n",
        "import matplotlib.pyplot as plt\n",
        "%matplotlib inline\n",
        "import seaborn as sns\n",
        "import scipy as sp\n",
        "from tabulate import tabulate\n",
        "import random\n",
        "import tensorflow as tf\n",
        "\n",
        "import os\n",
        "for dirname, _, filenames in os.walk('/kaggle/input'):\n",
        "    for filename in filenames:\n",
        "        print(os.path.join(dirname, filename))"
      ],
      "metadata": {
        "_uuid": "8f2839f25d086af736a60e9eeb907d3b93b6e0e5",
        "_cell_guid": "b1076dfc-b9ad-4769-8c92-a6c4dae69d19",
        "execution": {
          "iopub.status.busy": "2025-04-06T16:04:02.188742Z",
          "iopub.execute_input": "2025-04-06T16:04:02.189222Z",
          "iopub.status.idle": "2025-04-06T16:04:08.452713Z",
          "shell.execute_reply.started": "2025-04-06T16:04:02.189109Z",
          "shell.execute_reply": "2025-04-06T16:04:08.451371Z"
        },
        "trusted": true,
        "id": "Wvy7mCoN2gua",
        "outputId": "b29e0292-c552-439e-e343-41c978ae835d"
      },
      "outputs": [
        {
          "name": "stdout",
          "text": "/kaggle/input/online-payment-fraud-detection/onlinefraud.csv\n",
          "output_type": "stream"
        }
      ],
      "execution_count": null
    },
    {
      "cell_type": "markdown",
      "source": [
        "# <div style='background:darkblue'>  <font color='white'> <b>&nbsp;Exploratory Data Analysis</b></font> </div>"
      ],
      "metadata": {
        "id": "tdBtZ-wt2gub"
      }
    },
    {
      "cell_type": "code",
      "source": [
        "df = pd.read_csv('/kaggle/input/online-payment-fraud-detection/onlinefraud.csv')\n",
        "\n",
        "df.drop('isFlaggedFraud', axis=1, inplace=True)\n",
        "\n",
        "df.info()"
      ],
      "metadata": {
        "execution": {
          "iopub.status.busy": "2025-04-06T16:04:08.455289Z",
          "iopub.execute_input": "2025-04-06T16:04:08.456521Z",
          "iopub.status.idle": "2025-04-06T16:04:25.771861Z",
          "shell.execute_reply.started": "2025-04-06T16:04:08.456473Z",
          "shell.execute_reply": "2025-04-06T16:04:25.770684Z"
        },
        "trusted": true,
        "id": "nLIwn_Kg2guc",
        "outputId": "f7dcad33-bf36-4614-bf08-3593fc582633"
      },
      "outputs": [
        {
          "name": "stdout",
          "text": "<class 'pandas.core.frame.DataFrame'>\nRangeIndex: 6362620 entries, 0 to 6362619\nData columns (total 10 columns):\n #   Column          Dtype  \n---  ------          -----  \n 0   step            int64  \n 1   type            object \n 2   amount          float64\n 3   nameOrig        object \n 4   oldbalanceOrg   float64\n 5   newbalanceOrig  float64\n 6   nameDest        object \n 7   oldbalanceDest  float64\n 8   newbalanceDest  float64\n 9   isFraud         int64  \ndtypes: float64(5), int64(2), object(3)\nmemory usage: 485.4+ MB\n",
          "output_type": "stream"
        }
      ],
      "execution_count": null
    },
    {
      "cell_type": "markdown",
      "source": [
        "* The dataset consists of 6,362,620 observations."
      ],
      "metadata": {
        "id": "REUU4Uxi2guc"
      }
    },
    {
      "cell_type": "code",
      "source": [
        "df.sample(5)"
      ],
      "metadata": {
        "execution": {
          "iopub.status.busy": "2025-04-06T16:04:25.773035Z",
          "iopub.execute_input": "2025-04-06T16:04:25.773335Z",
          "iopub.status.idle": "2025-04-06T16:04:26.090814Z",
          "shell.execute_reply.started": "2025-04-06T16:04:25.773309Z",
          "shell.execute_reply": "2025-04-06T16:04:26.089686Z"
        },
        "trusted": true,
        "id": "F7Y9e28o2guc",
        "outputId": "2310f114-a776-481a-f5d4-8cac579a1e9b"
      },
      "outputs": [
        {
          "execution_count": 3,
          "output_type": "execute_result",
          "data": {
            "text/plain": "         step      type     amount     nameOrig  oldbalanceOrg  \\\n1285411   135   CASH_IN  264298.59  C1939049031     2279234.18   \n786526     39   CASH_IN  125706.44  C1000891249      482695.33   \n4834960   347  CASH_OUT  128946.56   C675794559           0.00   \n1377671   138  TRANSFER  641329.73   C491586969           0.00   \n1309244   136  CASH_OUT  185382.23   C969685157           0.00   \n\n         newbalanceOrig     nameDest  oldbalanceDest  newbalanceDest  isFraud  \n1285411      2543532.77  C1473985025       464945.68       200647.08        0  \n786526        608401.77  C1562210313       517999.17       392292.74        0  \n4834960            0.00  C1744178657       146549.32       275495.88        0  \n1377671            0.00   C496337361     12074500.58     12715830.31        0  \n1309244            0.00   C802935635       661360.99       846743.23        0  ",
            "text/html": "<div>\n<style scoped>\n    .dataframe tbody tr th:only-of-type {\n        vertical-align: middle;\n    }\n\n    .dataframe tbody tr th {\n        vertical-align: top;\n    }\n\n    .dataframe thead th {\n        text-align: right;\n    }\n</style>\n<table border=\"1\" class=\"dataframe\">\n  <thead>\n    <tr style=\"text-align: right;\">\n      <th></th>\n      <th>step</th>\n      <th>type</th>\n      <th>amount</th>\n      <th>nameOrig</th>\n      <th>oldbalanceOrg</th>\n      <th>newbalanceOrig</th>\n      <th>nameDest</th>\n      <th>oldbalanceDest</th>\n      <th>newbalanceDest</th>\n      <th>isFraud</th>\n    </tr>\n  </thead>\n  <tbody>\n    <tr>\n      <th>1285411</th>\n      <td>135</td>\n      <td>CASH_IN</td>\n      <td>264298.59</td>\n      <td>C1939049031</td>\n      <td>2279234.18</td>\n      <td>2543532.77</td>\n      <td>C1473985025</td>\n      <td>464945.68</td>\n      <td>200647.08</td>\n      <td>0</td>\n    </tr>\n    <tr>\n      <th>786526</th>\n      <td>39</td>\n      <td>CASH_IN</td>\n      <td>125706.44</td>\n      <td>C1000891249</td>\n      <td>482695.33</td>\n      <td>608401.77</td>\n      <td>C1562210313</td>\n      <td>517999.17</td>\n      <td>392292.74</td>\n      <td>0</td>\n    </tr>\n    <tr>\n      <th>4834960</th>\n      <td>347</td>\n      <td>CASH_OUT</td>\n      <td>128946.56</td>\n      <td>C675794559</td>\n      <td>0.00</td>\n      <td>0.00</td>\n      <td>C1744178657</td>\n      <td>146549.32</td>\n      <td>275495.88</td>\n      <td>0</td>\n    </tr>\n    <tr>\n      <th>1377671</th>\n      <td>138</td>\n      <td>TRANSFER</td>\n      <td>641329.73</td>\n      <td>C491586969</td>\n      <td>0.00</td>\n      <td>0.00</td>\n      <td>C496337361</td>\n      <td>12074500.58</td>\n      <td>12715830.31</td>\n      <td>0</td>\n    </tr>\n    <tr>\n      <th>1309244</th>\n      <td>136</td>\n      <td>CASH_OUT</td>\n      <td>185382.23</td>\n      <td>C969685157</td>\n      <td>0.00</td>\n      <td>0.00</td>\n      <td>C802935635</td>\n      <td>661360.99</td>\n      <td>846743.23</td>\n      <td>0</td>\n    </tr>\n  </tbody>\n</table>\n</div>"
          },
          "metadata": {}
        }
      ],
      "execution_count": null
    },
    {
      "cell_type": "code",
      "source": [
        "df.isnull().sum()"
      ],
      "metadata": {
        "execution": {
          "iopub.status.busy": "2025-04-06T16:04:26.092130Z",
          "iopub.execute_input": "2025-04-06T16:04:26.092499Z",
          "iopub.status.idle": "2025-04-06T16:04:27.140572Z",
          "shell.execute_reply.started": "2025-04-06T16:04:26.092467Z",
          "shell.execute_reply": "2025-04-06T16:04:27.139535Z"
        },
        "trusted": true,
        "id": "t2dei0Ib2guc",
        "outputId": "86f1a412-044a-4979-b99c-8b89dc740bd6"
      },
      "outputs": [
        {
          "execution_count": 4,
          "output_type": "execute_result",
          "data": {
            "text/plain": "step              0\ntype              0\namount            0\nnameOrig          0\noldbalanceOrg     0\nnewbalanceOrig    0\nnameDest          0\noldbalanceDest    0\nnewbalanceDest    0\nisFraud           0\ndtype: int64"
          },
          "metadata": {}
        }
      ],
      "execution_count": null
    },
    {
      "cell_type": "markdown",
      "source": [
        "* There are no missing values."
      ],
      "metadata": {
        "id": "VHYPC5JS2guc"
      }
    },
    {
      "cell_type": "code",
      "source": [
        "fraud_min_max = [\n",
        "    ['amount', df.amount.min(), df.amount.max()],\n",
        "    ['oldbalanceOrg', df.oldbalanceOrg.min(), df.oldbalanceOrg.max()],\n",
        "    ['newbalanceOrig', df.newbalanceOrig.min(), df.newbalanceOrig.max()],\n",
        "    ['oldbalanceDest', df.oldbalanceDest.min(), df.oldbalanceDest.max()],\n",
        "    ['isFraud', df.isFraud.min(), df.isFraud.max()]\n",
        "]\n",
        "\n",
        "print(\n",
        "    tabulate(\n",
        "        fraud_min_max,\n",
        "        headers=['columns', 'min value', 'max value'],\n",
        "        showindex=True,\n",
        "        tablefmt='github',\n",
        "        numalign='right'\n",
        "    )\n",
        ")"
      ],
      "metadata": {
        "execution": {
          "iopub.status.busy": "2025-04-06T16:04:27.143971Z",
          "iopub.execute_input": "2025-04-06T16:04:27.144445Z",
          "iopub.status.idle": "2025-04-06T16:04:27.307408Z",
          "shell.execute_reply.started": "2025-04-06T16:04:27.144401Z",
          "shell.execute_reply": "2025-04-06T16:04:27.306306Z"
        },
        "trusted": true,
        "id": "5TQd1zOj2guc",
        "outputId": "b62d3123-986b-49ea-9870-fcf91948ae72"
      },
      "outputs": [
        {
          "name": "stdout",
          "text": "|    | columns        |   min value |   max value |\n|----|----------------|-------------|-------------|\n|  0 | amount         |           0 | 9.24455e+07 |\n|  1 | oldbalanceOrg  |           0 |  5.9585e+07 |\n|  2 | newbalanceOrig |           0 |  4.9585e+07 |\n|  3 | oldbalanceDest |           0 | 3.56016e+08 |\n|  4 | isFraud        |           0 |           1 |\n",
          "output_type": "stream"
        }
      ],
      "execution_count": null
    },
    {
      "cell_type": "code",
      "source": [
        "# Downcast numerical columns with smaller dtype\n",
        "for col in df.columns:\n",
        "    if df[col].dtype == 'float64':\n",
        "        df[col] = pd.to_numeric(df[col], downcast='float')\n",
        "    if df[col].dtype == 'int64':\n",
        "        df[col] = pd.to_numeric(df[col], downcast='unsigned')\n",
        "\n",
        "# Use category dtype for categorical column\n",
        "df['type'] = df['type'].astype('category')"
      ],
      "metadata": {
        "execution": {
          "iopub.status.busy": "2025-04-06T16:04:27.308613Z",
          "iopub.execute_input": "2025-04-06T16:04:27.308918Z",
          "iopub.status.idle": "2025-04-06T16:04:28.860478Z",
          "shell.execute_reply.started": "2025-04-06T16:04:27.308892Z",
          "shell.execute_reply": "2025-04-06T16:04:28.859142Z"
        },
        "trusted": true,
        "id": "C1sG8BrK2gud"
      },
      "outputs": [],
      "execution_count": null
    },
    {
      "cell_type": "code",
      "source": [
        "# Check duplicate values\n",
        "df.duplicated().sum()"
      ],
      "metadata": {
        "execution": {
          "iopub.status.busy": "2025-04-06T16:04:28.861955Z",
          "iopub.execute_input": "2025-04-06T16:04:28.862412Z",
          "iopub.status.idle": "2025-04-06T16:04:46.118566Z",
          "shell.execute_reply.started": "2025-04-06T16:04:28.862349Z",
          "shell.execute_reply": "2025-04-06T16:04:46.117284Z"
        },
        "trusted": true,
        "id": "1Qh3aNwR2gud",
        "outputId": "ed95c507-9acf-4efa-9d22-5668a3065dd4"
      },
      "outputs": [
        {
          "execution_count": 7,
          "output_type": "execute_result",
          "data": {
            "text/plain": "0"
          },
          "metadata": {}
        }
      ],
      "execution_count": null
    },
    {
      "cell_type": "markdown",
      "source": [
        "* There are no duplicate values."
      ],
      "metadata": {
        "id": "hae6TzUJ2gud"
      }
    },
    {
      "cell_type": "code",
      "source": [
        "sns.set_style('whitegrid')\n",
        "plt.rcParams['figure.figsize'] = (8,6)"
      ],
      "metadata": {
        "execution": {
          "iopub.status.busy": "2025-04-06T16:04:46.120298Z",
          "iopub.execute_input": "2025-04-06T16:04:46.120753Z",
          "iopub.status.idle": "2025-04-06T16:04:46.126214Z",
          "shell.execute_reply.started": "2025-04-06T16:04:46.120712Z",
          "shell.execute_reply": "2025-04-06T16:04:46.125015Z"
        },
        "trusted": true,
        "id": "ds83EhD72gud"
      },
      "outputs": [],
      "execution_count": null
    },
    {
      "cell_type": "markdown",
      "source": [
        "<h2>\n",
        "    <div style='background:steelblue'>\n",
        "    <font color='white'>\n",
        "    <b>&nbsp; Univariate data visualization</b>\n",
        "    </font>\n",
        "    </div>\n",
        "</h2>"
      ],
      "metadata": {
        "id": "GZ6FvaVE2gud"
      }
    },
    {
      "cell_type": "code",
      "source": [
        "df['step'].value_counts()"
      ],
      "metadata": {
        "execution": {
          "iopub.status.busy": "2025-04-06T16:04:46.127767Z",
          "iopub.execute_input": "2025-04-06T16:04:46.128192Z",
          "iopub.status.idle": "2025-04-06T16:04:46.170810Z",
          "shell.execute_reply.started": "2025-04-06T16:04:46.128158Z",
          "shell.execute_reply": "2025-04-06T16:04:46.169637Z"
        },
        "trusted": true,
        "id": "MWO8h9hu2gud",
        "outputId": "69b227c1-754f-4d60-d0a3-0c2828260b17"
      },
      "outputs": [
        {
          "execution_count": 9,
          "output_type": "execute_result",
          "data": {
            "text/plain": "19     51352\n18     49579\n187    49083\n235    47491\n307    46968\n       ...  \n432        4\n706        4\n693        4\n112        2\n662        2\nName: step, Length: 743, dtype: int64"
          },
          "metadata": {}
        }
      ],
      "execution_count": null
    },
    {
      "cell_type": "markdown",
      "source": [
        "* There are **743** steps, and every step has **at least 2** occurrences."
      ],
      "metadata": {
        "id": "zxCOJyS82gud"
      }
    },
    {
      "cell_type": "code",
      "source": [
        "ax = sns.countplot(x='type', data=df, palette='PuBu')\n",
        "for container in ax.containers:\n",
        "    ax.bar_label(container)\n",
        "plt.title('Count plot of transaction type')\n",
        "plt.legend(bbox_to_anchor=(1.05,1), loc='upper left')\n",
        "plt.ylabel('Number of transactions')"
      ],
      "metadata": {
        "execution": {
          "iopub.status.busy": "2025-04-06T16:04:46.172165Z",
          "iopub.execute_input": "2025-04-06T16:04:46.172519Z",
          "iopub.status.idle": "2025-04-06T16:04:46.811660Z",
          "shell.execute_reply.started": "2025-04-06T16:04:46.172488Z",
          "shell.execute_reply": "2025-04-06T16:04:46.810631Z"
        },
        "trusted": true,
        "id": "v_6ipHqC2gue",
        "outputId": "6cd8f2ff-90dd-4709-c1c0-e294c69a5081"
      },
      "outputs": [
        {
          "execution_count": 10,
          "output_type": "execute_result",
          "data": {
            "text/plain": "Text(0, 0.5, 'Number of transactions')"
          },
          "metadata": {}
        },
        {
          "output_type": "display_data",
          "data": {
            "text/plain": "<Figure size 576x432 with 1 Axes>",
            "image/png": "[encoded data removed]"
          },
          "metadata": {}
        }
      ],
      "execution_count": null
    },
    {
      "cell_type": "markdown",
      "source": [
        "* **Cash out** is **the most numerous** transaction type, followed by payment, cash in, transfer and debit types."
      ],
      "metadata": {
        "id": "vqYFRYPr2gue"
      }
    },
    {
      "cell_type": "code",
      "source": [
        "sns.kdeplot(df['amount'], linewidth=4)\n",
        "plt.title('Distribution of transaction amount')"
      ],
      "metadata": {
        "execution": {
          "iopub.status.busy": "2025-04-06T16:04:46.813256Z",
          "iopub.execute_input": "2025-04-06T16:04:46.813696Z",
          "iopub.status.idle": "2025-04-06T16:05:10.393834Z",
          "shell.execute_reply.started": "2025-04-06T16:04:46.813657Z",
          "shell.execute_reply": "2025-04-06T16:05:10.392580Z"
        },
        "trusted": true,
        "id": "-FRZwyHC2gue",
        "outputId": "a67e954c-fc45-4c36-e0a8-b8a90cf59c5a"
      },
      "outputs": [
        {
          "execution_count": 11,
          "output_type": "execute_result",
          "data": {
            "text/plain": "Text(0.5, 1.0, 'Distribution of transaction amount')"
          },
          "metadata": {}
        },
        {
          "output_type": "display_data",
          "data": {
            "text/plain": "<Figure size 576x432 with 1 Axes>",
            "image/png": "[encoded data removed]"
          },
          "metadata": {}
        }
      ],
      "execution_count": null
    },
    {
      "cell_type": "markdown",
      "source": [
        "* The distribution of transaction amounts is **right skewed**.\n",
        "* This indicates that most values are clustered around the left tail of the distribution, with the longer right tail.\n",
        "* (mode < median < mean)"
      ],
      "metadata": {
        "id": "hZtm9ru42gue"
      }
    },
    {
      "cell_type": "code",
      "source": [
        "df['nameOrig'].value_counts()"
      ],
      "metadata": {
        "execution": {
          "iopub.status.busy": "2025-04-06T16:05:10.396151Z",
          "iopub.execute_input": "2025-04-06T16:05:10.396630Z",
          "iopub.status.idle": "2025-04-06T16:05:21.294266Z",
          "shell.execute_reply.started": "2025-04-06T16:05:10.396585Z",
          "shell.execute_reply": "2025-04-06T16:05:21.293013Z"
        },
        "trusted": true,
        "id": "wy9G1u6W2gue",
        "outputId": "a9f074bf-4ac2-449b-a916-e329c6bd82f6"
      },
      "outputs": [
        {
          "execution_count": 12,
          "output_type": "execute_result",
          "data": {
            "text/plain": "C1902386530    3\nC363736674     3\nC545315117     3\nC724452879     3\nC1784010646    3\n              ..\nC98968405      1\nC720209255     1\nC1567523029    1\nC644777639     1\nC1280323807    1\nName: nameOrig, Length: 6353307, dtype: int64"
          },
          "metadata": {}
        }
      ],
      "execution_count": null
    },
    {
      "cell_type": "markdown",
      "source": [
        "* There are **6353307** initial customers, and every step has **at least 1** occurrence."
      ],
      "metadata": {
        "id": "a4EV1sqQ2gue"
      }
    },
    {
      "cell_type": "code",
      "source": [
        "sns.kdeplot(df['oldbalanceOrg'], linewidth=4)\n",
        "plt.title('Distribution of transaction amount')"
      ],
      "metadata": {
        "execution": {
          "iopub.status.busy": "2025-04-06T16:05:21.295525Z",
          "iopub.execute_input": "2025-04-06T16:05:21.295867Z"
        },
        "trusted": true,
        "id": "N6BZSON62gue"
      },
      "outputs": [],
      "execution_count": null
    },
    {
      "cell_type": "markdown",
      "source": [
        "* The distribution of pre-transaction balances of the initial customers is **right skewed**."
      ],
      "metadata": {
        "id": "6gDR1Kn-2guf"
      }
    },
    {
      "cell_type": "code",
      "source": [
        "sns.kdeplot(df['newbalanceOrig'], linewidth=4)\n",
        "plt.title('Distribution of transaction amount')"
      ],
      "metadata": {
        "trusted": true,
        "id": "xNB81ooN2guf"
      },
      "outputs": [],
      "execution_count": null
    },
    {
      "cell_type": "markdown",
      "source": [
        "* The distribution of post-transaction balances of the initial customers is **right skewed**."
      ],
      "metadata": {
        "id": "4NGpVVDi2guf"
      }
    },
    {
      "cell_type": "code",
      "source": [
        "df['nameDest'].value_counts()"
      ],
      "metadata": {
        "trusted": true,
        "id": "kE-4rFXT2guf"
      },
      "outputs": [],
      "execution_count": null
    },
    {
      "cell_type": "markdown",
      "source": [
        "* There are **2722362** recipients, and every step has **at least 1** occurrence."
      ],
      "metadata": {
        "id": "8CX-_9-G2guf"
      }
    },
    {
      "cell_type": "code",
      "source": [
        "sns.kdeplot(df['oldbalanceDest'], linewidth=4)\n",
        "plt.title('Distribution of transaction amount')"
      ],
      "metadata": {
        "trusted": true,
        "id": "XSYoUfuO2guf"
      },
      "outputs": [],
      "execution_count": null
    },
    {
      "cell_type": "markdown",
      "source": [
        "* The distribution of pre-transaction balances of the recipient is **right skewed**."
      ],
      "metadata": {
        "id": "jcuPkaA22guf"
      }
    },
    {
      "cell_type": "code",
      "source": [
        "sns.kdeplot(df['newbalanceDest'], linewidth=4)\n",
        "plt.title('Distribution of transaction amount')"
      ],
      "metadata": {
        "trusted": true,
        "id": "jr447dCF2guf"
      },
      "outputs": [],
      "execution_count": null
    },
    {
      "cell_type": "markdown",
      "source": [
        "* The distribution of post-transaction balances of the recipient is **right skewed**."
      ],
      "metadata": {
        "id": "LYmlPQZf2guf"
      }
    },
    {
      "cell_type": "code",
      "source": [
        "ax = sns.countplot(x='isFraud', data=df, palette='PuBu')\n",
        "for container in ax.containers:\n",
        "    ax.bar_label(container)\n",
        "plt.title('Count plot of fraud transaction')\n",
        "plt.ylabel('Number of transactions')\n",
        "\n",
        "del ax"
      ],
      "metadata": {
        "trusted": true,
        "id": "maYb307w2guf"
      },
      "outputs": [],
      "execution_count": null
    },
    {
      "cell_type": "markdown",
      "source": [
        "* There are much **more non-fraudulent transactions** than fraudulent transactions."
      ],
      "metadata": {
        "id": "NsykC6Ac2guf"
      }
    },
    {
      "cell_type": "markdown",
      "source": [
        "<h2>\n",
        "    <div style='background:steelblue'>\n",
        "    <font color='white'>\n",
        "    <b>&nbsp; Bivariate data visualization</b>\n",
        "    </font>\n",
        "    </div>\n",
        "</h2>"
      ],
      "metadata": {
        "id": "nKvPf8VI2gug"
      }
    },
    {
      "cell_type": "code",
      "source": [
        "fig, ax = plt.subplots(1,2,figsize=(20,5))\n",
        "\n",
        "sns.countplot(x='type', data=df, hue='isFraud', palette='PuBu', ax=ax[0])\n",
        "for container in ax[0].containers:\n",
        "    ax[0].bar_label(container)\n",
        "ax[0].set_title('Count plot of transaction type')\n",
        "ax[0].legend(loc='best')\n",
        "ax[0].set_ylabel('Number of transactions')\n",
        "\n",
        "df2 = df.groupby(['type', 'isFraud']).size().unstack()\n",
        "df2.apply(lambda x : round(x/sum(x)*100, 2), axis=1).plot(kind='barh', stacked=True, color=['lightsteelblue', 'steelblue'], ax=ax[1])\n",
        "for container in ax[1].containers:\n",
        "    ax[1].bar_label(container, label_type='center')\n",
        "ax[1].set_title('Count plot of transaction type')\n",
        "ax[1].legend(bbox_to_anchor=(1.05,1), loc='upper left')\n",
        "ax[1].set_ylabel('Number of transactions')\n",
        "ax[1].grid(axis='y')"
      ],
      "metadata": {
        "trusted": true,
        "id": "IeV1KSXw2gug"
      },
      "outputs": [],
      "execution_count": null
    },
    {
      "cell_type": "markdown",
      "source": [
        "* Fraudulent transactions only occur in debit and transfer types."
      ],
      "metadata": {
        "id": "kADpaRoS2gug"
      }
    },
    {
      "cell_type": "code",
      "source": [
        "df['quantity'] = pd.cut(df['amount'], 5, labels=['very low', 'low', 'moderate', 'high', 'very high'])\n",
        "\n",
        "ax = sns.countplot(x='quantity', data=df, hue='isFraud', palette='PuBu')\n",
        "for container in ax.containers:\n",
        "    ax.bar_label(container)\n",
        "plt.title('Count plot of amount quantity')\n",
        "plt.legend(bbox_to_anchor=(1.05,1), loc='upper left')\n",
        "plt.ylabel('Number of transactions')"
      ],
      "metadata": {
        "trusted": true,
        "id": "hSg2-vmU2gug"
      },
      "outputs": [],
      "execution_count": null
    },
    {
      "cell_type": "markdown",
      "source": [
        "* All fraudulent transactions fall into the category of very low amounts.\n",
        "* This suggests that in most cases, small transactions are more prone to fraudulent transactions."
      ],
      "metadata": {
        "id": "gZabAyI92guk"
      }
    },
    {
      "cell_type": "code",
      "source": [
        "df1 = df[df['isFraud']==1]\n",
        "df2 = df1['step'].value_counts().head(10)\n",
        "ax = df2.plot(kind='bar', color='lightsteelblue')\n",
        "for container in ax.containers:\n",
        "    ax.bar_label(container)\n",
        "plt.title('Top 10 steps that often lead to fraudulent transactions')\n",
        "plt.ylabel('Number of fraudulent transactions')\n",
        "plt.xlabel('Step')\n",
        "plt.grid(axis='x')\n",
        "\n",
        "del ax, df2"
      ],
      "metadata": {
        "trusted": true,
        "id": "BfLtXPG52guk"
      },
      "outputs": [],
      "execution_count": null
    },
    {
      "cell_type": "markdown",
      "source": [
        "* **Step 212** has the highest number of fraudulent transactions, 40 cases.\n",
        "* This indicates that Step 212 is the step that will most likely lead to fraudulent transactions."
      ],
      "metadata": {
        "id": "tcfqF-St2guk"
      }
    },
    {
      "cell_type": "code",
      "source": [
        "df['oldbalanceOrg_amt'] = pd.cut(df['oldbalanceOrg'], 5, labels=['very low', 'low', 'moderate', 'high', 'very high'])\n",
        "\n",
        "ax = sns.countplot(x='oldbalanceOrg_amt', data=df, hue='isFraud', palette='PuBu')\n",
        "for container in ax.containers:\n",
        "    ax.bar_label(container)\n",
        "plt.title('Count plot of initial customers pre-transaction balance amount')\n",
        "plt.legend(bbox_to_anchor=(1.05,1), loc='upper left')\n",
        "plt.ylabel('Number of transactions')\n",
        "plt.xlabel('Initial customers pre-transaction balance amount')"
      ],
      "metadata": {
        "trusted": true,
        "id": "StR6gE3j2guk"
      },
      "outputs": [],
      "execution_count": null
    },
    {
      "cell_type": "markdown",
      "source": [
        "* Initial customers with **very low pre-transaction balances** has the highest number of fraudulent transactions.\n",
        "* This means that initial customers with very low pre-transaction balances may be more likely to fall for a fraudulent transaction."
      ],
      "metadata": {
        "id": "NMWZjUHt2guk"
      }
    },
    {
      "cell_type": "code",
      "source": [
        "df2 = df1['nameOrig'].value_counts().head(10)\n",
        "ax = df2.plot(kind='bar', color='lightsteelblue')\n",
        "for container in ax.containers:\n",
        "    ax.bar_label(container)\n",
        "plt.title('Top 10 initial customers fall for a fraudulent transactions')\n",
        "plt.ylabel('Number of fraudulent transactions')\n",
        "plt.xlabel('Initial customers')\n",
        "plt.grid(axis='x')\n",
        "\n",
        "del ax, df2"
      ],
      "metadata": {
        "trusted": true,
        "id": "ihkGVlHk2guk"
      },
      "outputs": [],
      "execution_count": null
    },
    {
      "cell_type": "markdown",
      "source": [
        "* Initial customers are scammed of **at most one** for a fraudulent transaction."
      ],
      "metadata": {
        "id": "5DgKpDEf2guk"
      }
    },
    {
      "cell_type": "code",
      "source": [
        "df2 = df1['nameDest'].value_counts().head(10)\n",
        "ax = df2.plot(kind='bar', color='lightsteelblue')\n",
        "for container in ax.containers:\n",
        "    ax.bar_label(container)\n",
        "plt.title('Top 10 recipients highly involved in fraudulent transactions')\n",
        "plt.ylabel('Number of fraudulent transactions')\n",
        "plt.xlabel('Recipients')\n",
        "plt.grid(axis='x')\n",
        "\n",
        "del ax, df2"
      ],
      "metadata": {
        "trusted": true,
        "id": "-h_jQoKD2guk"
      },
      "outputs": [],
      "execution_count": null
    },
    {
      "cell_type": "markdown",
      "source": [
        "* Suspicious recipients only have a **maximum of 2** involved fraudulent transactions."
      ],
      "metadata": {
        "id": "qBuoCNqb2gul"
      }
    },
    {
      "cell_type": "code",
      "source": [
        "df['oldbalanceDest_amt'] = pd.cut(df['oldbalanceDest'], 5, labels=['very low', 'low', 'moderate', 'high', 'very high'])\n",
        "\n",
        "ax = sns.countplot(x='oldbalanceDest_amt', data=df, hue='isFraud', palette='PuBu')\n",
        "for container in ax.containers:\n",
        "    ax.bar_label(container)\n",
        "plt.title('Count plot of recipients pre-transaction balance amount')\n",
        "plt.legend(bbox_to_anchor=(1.05,1), loc='upper left')\n",
        "plt.ylabel('Number of transactions')\n",
        "plt.xlabel('Recipient pre-transaction balance amount')"
      ],
      "metadata": {
        "trusted": true,
        "id": "ZtizMWFH2gul"
      },
      "outputs": [],
      "execution_count": null
    },
    {
      "cell_type": "markdown",
      "source": [
        "* Recipients with **very low pre-transaction balances** has the highest number of fraudulent transactions.\n",
        "* This implies that recipients with very low pre-transaction balances may be more susceptible to fraudulent transactions."
      ],
      "metadata": {
        "id": "TkYSZuIk2gul"
      }
    },
    {
      "cell_type": "markdown",
      "source": [
        "<h2>\n",
        "    <div style='background:steelblue'>\n",
        "    <font color='white'>\n",
        "    <b>&nbsp; Multivariate data visualization</b>\n",
        "    </font>\n",
        "    </div>\n",
        "</h2>"
      ],
      "metadata": {
        "id": "3qedCh_p2gul"
      }
    },
    {
      "cell_type": "code",
      "source": [
        "corr_matrix = df.corr('spearman')\n",
        "sns.heatmap(corr_matrix, cbar=True, annot=True, mask = np.triu(np.ones_like(corr_matrix, dtype = bool)), fmt='.3f', cmap='PuBu')\n",
        "plt.title('Correlation')"
      ],
      "metadata": {
        "trusted": true,
        "id": "AeiQdD002gul"
      },
      "outputs": [],
      "execution_count": null
    },
    {
      "cell_type": "markdown",
      "source": [
        "* oldbalanceOrg and newbalanceOrig has **strong positive** relationship.\n",
        "* oldbalanceDest and newbalanceDest has **strong positive** relationship.\n",
        "* oldbalanceOrg and amount has **weak positive** relationship.\n",
        "* newbalanceOrig and amount has **moderate positive** relationship."
      ],
      "metadata": {
        "id": "ybf0Mnbs2gul"
      }
    },
    {
      "cell_type": "markdown",
      "source": [
        "# <div style='background:darkblue'> <font color='white'> <b>&nbsp; Model Building</b> </font> </div>"
      ],
      "metadata": {
        "id": "aeY3U0J72gul"
      }
    },
    {
      "cell_type": "code",
      "source": [
        "# Data preprocessing\n",
        "df['type'] = df['type'].map({'PAYMENT':0, 'CASH_IN':1, 'DEBIT':2, 'CASH_OUT':3, 'TRANSFER':4})"
      ],
      "metadata": {
        "trusted": true,
        "id": "eAiVXC6H2gul"
      },
      "outputs": [],
      "execution_count": null
    },
    {
      "cell_type": "markdown",
      "source": [
        "Due to the large dataset, Random Forest and Logistic Regression with balanced class weight are used to identify online payment fraud."
      ],
      "metadata": {
        "id": "qy65_hGm2gul"
      }
    },
    {
      "cell_type": "code",
      "source": [
        "from sklearn.model_selection import StratifiedKFold\n",
        "from sklearn.preprocessing import StandardScaler\n",
        "from sklearn.ensemble import RandomForestClassifier\n",
        "from sklearn.linear_model import LogisticRegression\n",
        "from imblearn.under_sampling import RandomUnderSampler\n",
        "from sklearn.model_selection import cross_val_score\n",
        "from sklearn.metrics import classification_report, roc_curve, auc, ConfusionMatrixDisplay\n",
        "\n",
        "\n",
        "seed = 42\n",
        "np.random.seed(seed)\n",
        "random.seed(seed)\n",
        "tf.random.set_seed(seed)\n",
        "\n",
        "\n",
        "X = df.copy()\n",
        "X.drop(['nameOrig', 'newbalanceOrig', 'nameDest', 'newbalanceDest', 'quantity', 'oldbalanceOrg_amt', 'oldbalanceDest_amt'], axis=1, inplace=True)\n",
        "y = X.pop('isFraud')\n",
        "\n",
        "\n",
        "# Stratified train-test split\n",
        "skfold = StratifiedKFold(n_splits=5, shuffle=True, random_state=seed)\n",
        "for train_idx, test_idx in skfold.split(X,y):\n",
        "    X_train, X_test = X.iloc[train_idx], X.iloc[test_idx]\n",
        "    y_train, y_test = y.iloc[train_idx], y.iloc[test_idx]\n",
        "\n",
        "\n",
        "sc = StandardScaler()\n",
        "scaled_train = sc.fit_transform(X_train)\n",
        "scaled_test = sc.transform(X_test)\n",
        "X_train = pd.DataFrame(scaled_train, index=X_train.index, columns=X_train.columns)\n",
        "X_test = pd.DataFrame(scaled_test, index=X_test.index, columns=X_test.columns)\n",
        "\n",
        "\n",
        "X_train, y_train = RandomUnderSampler(sampling_strategy='majority').fit_resample(X_train, y_train)"
      ],
      "metadata": {
        "trusted": true,
        "id": "OTBDJBtb2gum"
      },
      "outputs": [],
      "execution_count": null
    },
    {
      "cell_type": "code",
      "source": [
        "def model_comparison_evaluate(classifiers, X, y):\n",
        "    print('K-Fold Cross-Validation:\\n')\n",
        "    for name, model in classifiers.items():\n",
        "        print('{}:'.format(name))\n",
        "\n",
        "        scoring = ['accuracy', 'precision', 'recall', 'f1', 'roc_auc']\n",
        "\n",
        "        for score in scoring:\n",
        "            scores = cross_val_score(model, X, y, scoring=score, cv=skfold, n_jobs=-1)\n",
        "            print('Mean {} score: {:.3f} ({:.3f})'.format(score, scores.mean(), scores.std()))\n",
        "\n",
        "        print('\\n')"
      ],
      "metadata": {
        "trusted": true,
        "id": "pvzC-r7E2gum"
      },
      "outputs": [],
      "execution_count": null
    },
    {
      "cell_type": "code",
      "source": [
        "classifiers = { 'Random Forest Classifier':RandomForestClassifier(class_weight='balanced', random_state=seed),\n",
        "                'Logistic Regression': LogisticRegression(class_weight='balanced', random_state=seed)\n",
        "              }"
      ],
      "metadata": {
        "trusted": true,
        "id": "AWCV1qsw2gum"
      },
      "outputs": [],
      "execution_count": null
    },
    {
      "cell_type": "code",
      "source": [
        "model_comparison_evaluate(classifiers, X_train, y_train)"
      ],
      "metadata": {
        "trusted": true,
        "id": "qIO67zae2gum"
      },
      "outputs": [],
      "execution_count": null
    },
    {
      "cell_type": "code",
      "source": [
        "model = RandomForestClassifier(class_weight='balanced', random_state=seed)\n",
        "model.fit(X_train, y_train)\n",
        "y_pred = model.predict(X_test)\n",
        "y_pred_score = model.predict_proba(X_test)[:,1]\n",
        "print('Random Forest Classifier:')\n",
        "print(classification_report(y_pred, y_test, labels=[0,1], target_names=['Non-Fraud [0]', 'Fraud [1]']), '\\n')\n",
        "\n",
        "\n",
        "\n",
        "fig, ax = plt.subplots(1, 2, figsize=(20,5))\n",
        "ax[0].set_title('Confusion Matrix of Random Forest Model:')\n",
        "ConfusionMatrixDisplay.from_predictions(y_test, y_pred, colorbar=False, values_format='', cmap='crest', ax=ax[0])\n",
        "ax[0].grid(False)\n",
        "\n",
        "\n",
        "\n",
        "fpr, tpr, thresholds = roc_curve(y_test, y_pred_score)\n",
        "roc_auc = auc(fpr, tpr)\n",
        "ax[1].set_title('ROC Curve - Random Forest Classifier')\n",
        "ax[1].plot(fpr, tpr, label = 'AUC = %0.3f' % roc_auc, c='steelblue')\n",
        "ax[1].plot([0,1],[0,1],'--', c='lightsteelblue')\n",
        "ax[1].legend(loc='lower right')\n",
        "ax[1].set_ylabel('True Positive Rate')\n",
        "ax[1].set_xlabel('False Positive Rate')"
      ],
      "metadata": {
        "trusted": true,
        "id": "IFLvGPOw2gum"
      },
      "outputs": [],
      "execution_count": null
    },
    {
      "cell_type": "markdown",
      "source": [
        "* From the confusion matrix, 1,239,155 were correctly classified as non-fraudulent payments, and 31,726 people were misclassified as non-fraudulent payments.\n",
        "* According to the confusion matrix, 1,639 payments were incorrectly labelled as fraud while 4 payments were correctly identified as fraud."
      ],
      "metadata": {
        "id": "VniB21o_2gum"
      }
    },
    {
      "cell_type": "markdown",
      "source": [
        "# <div style='background:darkblue'>  <font color='white'> <b>&nbsp; Conclusion</b> </font> </div>\n",
        "\n",
        "* Random Forest obtains the highest score of all using K-fold cross-validation.\n",
        "* The best performing model is **Random Forest** for identifying fraudulent and non-fraudulent payments, as the AUC is 0.999, which is close to 1. This means it has a good separability measure, and the model has an 99.9% chance of being able to distinguish between positive and negative classes.."
      ],
      "metadata": {
        "id": "CPQD0mQ92gum"
      }
    }
  ]
}